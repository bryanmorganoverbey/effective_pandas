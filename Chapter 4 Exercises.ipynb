{
 "cells": [
  {
   "cell_type": "code",
   "execution_count": 2,
   "id": "b47ca222",
   "metadata": {},
   "outputs": [
    {
     "name": "stdout",
     "output_type": "stream",
     "text": [
      "0    60\n",
      "1    62\n",
      "5    60\n",
      "dtype: int64\n"
     ]
    }
   ],
   "source": [
    "# Using Jupyter, create a series with the temperature values for the last seven days.\n",
    "# Filter out the values below the mean.\n",
    "import pandas as pd\n",
    "\n",
    "temps = pd.Series([60, 62, 75, 81, 67, 60, 66])\n",
    "median = temps[temps < temps.median()]\n",
    "print(median)"
   ]
  },
  {
   "cell_type": "code",
   "execution_count": 5,
   "id": "b694b15d",
   "metadata": {},
   "outputs": [
    {
     "name": "stdout",
     "output_type": "stream",
     "text": [
      "0      blue\n",
      "1     white\n",
      "2    orange\n",
      "3       red\n",
      "4     green\n",
      "dtype: category\n",
      "Categories (5, object): [blue, green, orange, red, white]\n"
     ]
    }
   ],
   "source": [
    "# Using Jupyter, create a series with your favorite colors. Use a categorical type.\n",
    "import pandas as pd\n",
    "\n",
    "colors = pd.Series(['blue', 'white', 'orange', 'red', 'green'], dtype=\"category\")\n",
    "print(colors)"
   ]
  },
  {
   "cell_type": "code",
   "execution_count": null,
   "id": "a3aff0d2",
   "metadata": {},
   "outputs": [],
   "source": []
  }
 ],
 "metadata": {
  "kernelspec": {
   "display_name": "Python 3 (ipykernel)",
   "language": "python",
   "name": "python3"
  },
  "language_info": {
   "codemirror_mode": {
    "name": "ipython",
    "version": 3
   },
   "file_extension": ".py",
   "mimetype": "text/x-python",
   "name": "python",
   "nbconvert_exporter": "python",
   "pygments_lexer": "ipython3",
   "version": "3.7.10"
  }
 },
 "nbformat": 4,
 "nbformat_minor": 5
}
